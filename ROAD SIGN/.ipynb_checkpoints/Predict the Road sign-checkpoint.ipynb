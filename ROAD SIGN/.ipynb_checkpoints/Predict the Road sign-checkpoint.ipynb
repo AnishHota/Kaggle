{
 "cells": [
  {
   "cell_type": "markdown",
   "metadata": {},
   "source": [
    "# INDIAHACKS 2017: MACHINE LEARNING"
   ]
  },
  {
   "cell_type": "markdown",
   "metadata": {},
   "source": [
    "# PREDICT THE ROAD SIGN"
   ]
  },
  {
   "cell_type": "markdown",
   "metadata": {},
   "source": [
    "## Loading libraries"
   ]
  },
  {
   "cell_type": "code",
   "execution_count": 73,
   "metadata": {
    "collapsed": true
   },
   "outputs": [],
   "source": [
    "import pandas as pd\n",
    "import numpy as np\n",
    "import xgboost as xgb"
   ]
  },
  {
   "cell_type": "code",
   "execution_count": 74,
   "metadata": {
    "collapsed": true
   },
   "outputs": [],
   "source": [
    "# Loading train and test data\n",
    "train = pd.read_csv('train.csv')\n",
    "test = pd.read_csv('test.csv')"
   ]
  },
  {
   "cell_type": "code",
   "execution_count": 75,
   "metadata": {},
   "outputs": [
    {
     "name": "stdout",
     "output_type": "stream",
     "text": [
      "<class 'pandas.core.frame.DataFrame'>\n",
      "RangeIndex: 38485 entries, 0 to 38484\n",
      "Data columns (total 7 columns):\n",
      "Id                     38485 non-null object\n",
      "DetectedCamera         38485 non-null object\n",
      "AngleOfSign            38485 non-null int64\n",
      "SignAspectRatio        38485 non-null float64\n",
      "SignWidth              38485 non-null int64\n",
      "SignHeight             38485 non-null int64\n",
      "SignFacing (Target)    38485 non-null object\n",
      "dtypes: float64(1), int64(3), object(3)\n",
      "memory usage: 2.1+ MB\n"
     ]
    }
   ],
   "source": [
    "train.info()"
   ]
  },
  {
   "cell_type": "code",
   "execution_count": 76,
   "metadata": {},
   "outputs": [
    {
     "data": {
      "text/html": [
       "<div>\n",
       "<style>\n",
       "    .dataframe thead tr:only-child th {\n",
       "        text-align: right;\n",
       "    }\n",
       "\n",
       "    .dataframe thead th {\n",
       "        text-align: left;\n",
       "    }\n",
       "\n",
       "    .dataframe tbody tr th {\n",
       "        vertical-align: top;\n",
       "    }\n",
       "</style>\n",
       "<table border=\"1\" class=\"dataframe\">\n",
       "  <thead>\n",
       "    <tr style=\"text-align: right;\">\n",
       "      <th></th>\n",
       "      <th>AngleOfSign</th>\n",
       "      <th>SignAspectRatio</th>\n",
       "      <th>SignWidth</th>\n",
       "      <th>SignHeight</th>\n",
       "    </tr>\n",
       "  </thead>\n",
       "  <tbody>\n",
       "    <tr>\n",
       "      <th>count</th>\n",
       "      <td>38485.000000</td>\n",
       "      <td>38485.000000</td>\n",
       "      <td>38485.000000</td>\n",
       "      <td>38485.000000</td>\n",
       "    </tr>\n",
       "    <tr>\n",
       "      <th>mean</th>\n",
       "      <td>132.930986</td>\n",
       "      <td>0.901241</td>\n",
       "      <td>92.922957</td>\n",
       "      <td>104.993140</td>\n",
       "    </tr>\n",
       "    <tr>\n",
       "      <th>std</th>\n",
       "      <td>98.042472</td>\n",
       "      <td>0.226068</td>\n",
       "      <td>52.399274</td>\n",
       "      <td>53.347424</td>\n",
       "    </tr>\n",
       "    <tr>\n",
       "      <th>min</th>\n",
       "      <td>1.000000</td>\n",
       "      <td>0.260000</td>\n",
       "      <td>19.000000</td>\n",
       "      <td>23.000000</td>\n",
       "    </tr>\n",
       "    <tr>\n",
       "      <th>25%</th>\n",
       "      <td>42.000000</td>\n",
       "      <td>0.770000</td>\n",
       "      <td>54.000000</td>\n",
       "      <td>65.000000</td>\n",
       "    </tr>\n",
       "    <tr>\n",
       "      <th>50%</th>\n",
       "      <td>80.000000</td>\n",
       "      <td>0.930000</td>\n",
       "      <td>80.000000</td>\n",
       "      <td>96.000000</td>\n",
       "    </tr>\n",
       "    <tr>\n",
       "      <th>75%</th>\n",
       "      <td>228.000000</td>\n",
       "      <td>1.040000</td>\n",
       "      <td>118.000000</td>\n",
       "      <td>132.000000</td>\n",
       "    </tr>\n",
       "    <tr>\n",
       "      <th>max</th>\n",
       "      <td>360.000000</td>\n",
       "      <td>2.790000</td>\n",
       "      <td>589.000000</td>\n",
       "      <td>513.000000</td>\n",
       "    </tr>\n",
       "  </tbody>\n",
       "</table>\n",
       "</div>"
      ],
      "text/plain": [
       "        AngleOfSign  SignAspectRatio     SignWidth    SignHeight\n",
       "count  38485.000000     38485.000000  38485.000000  38485.000000\n",
       "mean     132.930986         0.901241     92.922957    104.993140\n",
       "std       98.042472         0.226068     52.399274     53.347424\n",
       "min        1.000000         0.260000     19.000000     23.000000\n",
       "25%       42.000000         0.770000     54.000000     65.000000\n",
       "50%       80.000000         0.930000     80.000000     96.000000\n",
       "75%      228.000000         1.040000    118.000000    132.000000\n",
       "max      360.000000         2.790000    589.000000    513.000000"
      ]
     },
     "execution_count": 76,
     "metadata": {},
     "output_type": "execute_result"
    }
   ],
   "source": [
    "train.describe()"
   ]
  },
  {
   "cell_type": "code",
   "execution_count": 77,
   "metadata": {},
   "outputs": [
    {
     "data": {
      "text/html": [
       "<div>\n",
       "<style>\n",
       "    .dataframe thead tr:only-child th {\n",
       "        text-align: right;\n",
       "    }\n",
       "\n",
       "    .dataframe thead th {\n",
       "        text-align: left;\n",
       "    }\n",
       "\n",
       "    .dataframe tbody tr th {\n",
       "        vertical-align: top;\n",
       "    }\n",
       "</style>\n",
       "<table border=\"1\" class=\"dataframe\">\n",
       "  <thead>\n",
       "    <tr style=\"text-align: right;\">\n",
       "      <th></th>\n",
       "      <th>Id</th>\n",
       "      <th>DetectedCamera</th>\n",
       "      <th>AngleOfSign</th>\n",
       "      <th>SignAspectRatio</th>\n",
       "      <th>SignWidth</th>\n",
       "      <th>SignHeight</th>\n",
       "      <th>SignFacing (Target)</th>\n",
       "    </tr>\n",
       "  </thead>\n",
       "  <tbody>\n",
       "    <tr>\n",
       "      <th>0</th>\n",
       "      <td>2c9180975a056a64015a1e0a52e57021</td>\n",
       "      <td>Rear</td>\n",
       "      <td>195</td>\n",
       "      <td>1.02</td>\n",
       "      <td>46</td>\n",
       "      <td>45</td>\n",
       "      <td>Rear</td>\n",
       "    </tr>\n",
       "    <tr>\n",
       "      <th>1</th>\n",
       "      <td>2c9180975a056a64015a1e17b32171e4</td>\n",
       "      <td>Rear</td>\n",
       "      <td>203</td>\n",
       "      <td>1.09</td>\n",
       "      <td>59</td>\n",
       "      <td>54</td>\n",
       "      <td>Rear</td>\n",
       "    </tr>\n",
       "    <tr>\n",
       "      <th>2</th>\n",
       "      <td>2c9180975a056a64015a1de4deb16bd5</td>\n",
       "      <td>Front</td>\n",
       "      <td>26</td>\n",
       "      <td>0.96</td>\n",
       "      <td>104</td>\n",
       "      <td>108</td>\n",
       "      <td>Front</td>\n",
       "    </tr>\n",
       "    <tr>\n",
       "      <th>3</th>\n",
       "      <td>2c9180975a056a64015a1de4deb16bdd</td>\n",
       "      <td>Rear</td>\n",
       "      <td>199</td>\n",
       "      <td>0.81</td>\n",
       "      <td>38</td>\n",
       "      <td>47</td>\n",
       "      <td>Rear</td>\n",
       "    </tr>\n",
       "    <tr>\n",
       "      <th>4</th>\n",
       "      <td>2c9180975a056a64015a1de4deb16bd6</td>\n",
       "      <td>Rear</td>\n",
       "      <td>208</td>\n",
       "      <td>0.93</td>\n",
       "      <td>54</td>\n",
       "      <td>58</td>\n",
       "      <td>Rear</td>\n",
       "    </tr>\n",
       "  </tbody>\n",
       "</table>\n",
       "</div>"
      ],
      "text/plain": [
       "                                 Id DetectedCamera  AngleOfSign  \\\n",
       "0  2c9180975a056a64015a1e0a52e57021           Rear          195   \n",
       "1  2c9180975a056a64015a1e17b32171e4           Rear          203   \n",
       "2  2c9180975a056a64015a1de4deb16bd5          Front           26   \n",
       "3  2c9180975a056a64015a1de4deb16bdd           Rear          199   \n",
       "4  2c9180975a056a64015a1de4deb16bd6           Rear          208   \n",
       "\n",
       "   SignAspectRatio  SignWidth  SignHeight SignFacing (Target)  \n",
       "0             1.02         46          45                Rear  \n",
       "1             1.09         59          54                Rear  \n",
       "2             0.96        104         108               Front  \n",
       "3             0.81         38          47                Rear  \n",
       "4             0.93         54          58                Rear  "
      ]
     },
     "execution_count": 77,
     "metadata": {},
     "output_type": "execute_result"
    }
   ],
   "source": [
    "train.head(5)"
   ]
  },
  {
   "cell_type": "code",
   "execution_count": 78,
   "metadata": {
    "collapsed": true
   },
   "outputs": [],
   "source": [
    "detectedcameraMapping = {'Front':1,'Left':2,'Rear':3,'Right':4}\n",
    "train = train.replace({'DetectedCamera':detectedcameraMapping})"
   ]
  },
  {
   "cell_type": "code",
   "execution_count": 79,
   "metadata": {
    "collapsed": true
   },
   "outputs": [],
   "source": [
    "test = test.replace({'DetectedCamera':detectedcameraMapping}) "
   ]
  },
  {
   "cell_type": "code",
   "execution_count": 80,
   "metadata": {
    "collapsed": true
   },
   "outputs": [],
   "source": [
    "train.rename(columns={'SignFacing (Target)':'Target'},inplace=True)"
   ]
  },
  {
   "cell_type": "code",
   "execution_count": 81,
   "metadata": {
    "collapsed": true
   },
   "outputs": [],
   "source": [
    "train = train.replace({'Target':detectedcameraMapping})"
   ]
  },
  {
   "cell_type": "code",
   "execution_count": 82,
   "metadata": {
    "collapsed": true
   },
   "outputs": [],
   "source": [
    "cols_to_use = ['DetectedCamera','AngleOfSign','SignAspectRatio','SignWidth','SignHeight']\n",
    "features_train = train[cols_to_use].values\n",
    "features_test = test[cols_to_use].values"
   ]
  },
  {
   "cell_type": "code",
   "execution_count": 83,
   "metadata": {
    "collapsed": true
   },
   "outputs": [],
   "source": [
    "labels_train = train['Target'].values"
   ]
  },
  {
   "cell_type": "code",
   "execution_count": 84,
   "metadata": {
    "collapsed": true
   },
   "outputs": [],
   "source": [
    "params = {'sub_sample':0.9,'learning_rate':0.01,'max_depth':3,'min_child_weight':3}\n",
    "xgb_clf = xgb.XGBClassifier(**params)"
   ]
  },
  {
   "cell_type": "code",
   "execution_count": 85,
   "metadata": {},
   "outputs": [
    {
     "data": {
      "text/plain": [
       "XGBClassifier(base_score=0.5, booster='gbtree', colsample_bylevel=1,\n",
       "       colsample_bytree=1, gamma=0, learning_rate=0.01, max_delta_step=0,\n",
       "       max_depth=3, min_child_weight=3, missing=None, n_estimators=100,\n",
       "       n_jobs=1, nthread=None, objective='multi:softprob', random_state=0,\n",
       "       reg_alpha=0, reg_lambda=1, scale_pos_weight=1, seed=None,\n",
       "       silent=True, sub_sample=0.9, subsample=1)"
      ]
     },
     "execution_count": 85,
     "metadata": {},
     "output_type": "execute_result"
    }
   ],
   "source": [
    "xgb_clf.fit(features_train,labels_train)"
   ]
  },
  {
   "cell_type": "code",
   "execution_count": 86,
   "metadata": {
    "collapsed": true
   },
   "outputs": [],
   "source": [
    "test_id = test['Id']\n",
    "test.drop(['Id'],inplace=True,axis=1)"
   ]
  },
  {
   "cell_type": "code",
   "execution_count": 87,
   "metadata": {
    "collapsed": true
   },
   "outputs": [],
   "source": [
    "pred = xgb_clf.predict_proba(features_test)"
   ]
  },
  {
   "cell_type": "code",
   "execution_count": 95,
   "metadata": {
    "collapsed": true
   },
   "outputs": [],
   "source": [
    "columns = ['Front','Left','Rear','Right']\n",
    "sol = pd.DataFrame(data=pred,columns=columns)\n",
    "sol['Id'] = test_id\n",
    "sol = sol[['Id','Front','Left','Rear','Right']]\n",
    "sol.to_csv('sol.csv',index=False)"
   ]
  },
  {
   "cell_type": "code",
   "execution_count": 89,
   "metadata": {
    "collapsed": true
   },
   "outputs": [],
   "source": [
    "from sklearn.ensemble import RandomForestClassifier"
   ]
  },
  {
   "cell_type": "code",
   "execution_count": 90,
   "metadata": {
    "collapsed": true
   },
   "outputs": [],
   "source": [
    "rf_clf = RandomForestClassifier(n_estimators=500,max_features=3,min_samples_split=5,oob_score=True)"
   ]
  },
  {
   "cell_type": "code",
   "execution_count": 91,
   "metadata": {},
   "outputs": [
    {
     "data": {
      "text/plain": [
       "RandomForestClassifier(bootstrap=True, class_weight=None, criterion='gini',\n",
       "            max_depth=None, max_features=3, max_leaf_nodes=None,\n",
       "            min_impurity_split=1e-07, min_samples_leaf=1,\n",
       "            min_samples_split=5, min_weight_fraction_leaf=0.0,\n",
       "            n_estimators=500, n_jobs=1, oob_score=True, random_state=None,\n",
       "            verbose=0, warm_start=False)"
      ]
     },
     "execution_count": 91,
     "metadata": {},
     "output_type": "execute_result"
    }
   ],
   "source": [
    "rf_clf.fit(features_train,labels_train)"
   ]
  },
  {
   "cell_type": "code",
   "execution_count": 93,
   "metadata": {
    "collapsed": true
   },
   "outputs": [],
   "source": [
    "rf_pred = rf_clf.predict_proba(features_test)"
   ]
  },
  {
   "cell_type": "code",
   "execution_count": 94,
   "metadata": {
    "collapsed": true
   },
   "outputs": [],
   "source": [
    "sol2 = pd.DataFrame(data=rf_pred,columns=columns)\n",
    "sol2['Id'] = test_id\n",
    "sol2 = sol2[['Id','Front','Left','Rear','Right']]\n",
    "sol2.to_csv('sol2.csv',index=False)"
   ]
  },
  {
   "cell_type": "code",
   "execution_count": null,
   "metadata": {
    "collapsed": true
   },
   "outputs": [],
   "source": []
  }
 ],
 "metadata": {
  "kernelspec": {
   "display_name": "Python 2",
   "language": "python",
   "name": "python2"
  },
  "language_info": {
   "codemirror_mode": {
    "name": "ipython",
    "version": 2
   },
   "file_extension": ".py",
   "mimetype": "text/x-python",
   "name": "python",
   "nbconvert_exporter": "python",
   "pygments_lexer": "ipython2",
   "version": "2.7.12"
  }
 },
 "nbformat": 4,
 "nbformat_minor": 2
}
