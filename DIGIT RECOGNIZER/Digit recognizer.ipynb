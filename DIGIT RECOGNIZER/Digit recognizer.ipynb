{
 "cells": [
  {
   "cell_type": "markdown",
   "metadata": {},
   "source": [
    "# Digit recognizer using Neural Networks [IN PROGRESS]"
   ]
  },
  {
   "cell_type": "markdown",
   "metadata": {},
   "source": [
    "## Using the mnist dataset from kaggle to recognize digits"
   ]
  },
  {
   "cell_type": "markdown",
   "metadata": {},
   "source": [
    "## Loading libraries"
   ]
  },
  {
   "cell_type": "code",
   "execution_count": 1,
   "metadata": {
    "collapsed": true
   },
   "outputs": [],
   "source": [
    "import numpy as np\n",
    "import pandas as pd\n",
    "\n",
    "%matplotlib inline\n",
    "import matplotlib.pyplot as plt\n",
    "import matplotlib.cm as cm\n",
    "\n",
    "import tensorflow as tf"
   ]
  },
  {
   "cell_type": "markdown",
   "metadata": {},
   "source": [
    "## Data preparation"
   ]
  },
  {
   "cell_type": "code",
   "execution_count": 2,
   "metadata": {
    "collapsed": true
   },
   "outputs": [],
   "source": [
    "data = pd.read_csv('train.csv')"
   ]
  },
  {
   "cell_type": "code",
   "execution_count": 3,
   "metadata": {},
   "outputs": [
    {
     "name": "stdout",
     "output_type": "stream",
     "text": [
      "(42000, 785)\n"
     ]
    }
   ],
   "source": [
    "print(data.shape)"
   ]
  },
  {
   "cell_type": "code",
   "execution_count": 4,
   "metadata": {},
   "outputs": [
    {
     "name": "stdout",
     "output_type": "stream",
     "text": [
      "   label  pixel0  pixel1  pixel2  pixel3  pixel4  pixel5  pixel6  pixel7  \\\n",
      "0      1       0       0       0       0       0       0       0       0   \n",
      "1      0       0       0       0       0       0       0       0       0   \n",
      "2      1       0       0       0       0       0       0       0       0   \n",
      "3      4       0       0       0       0       0       0       0       0   \n",
      "4      0       0       0       0       0       0       0       0       0   \n",
      "\n",
      "   pixel8    ...     pixel774  pixel775  pixel776  pixel777  pixel778  \\\n",
      "0       0    ...            0         0         0         0         0   \n",
      "1       0    ...            0         0         0         0         0   \n",
      "2       0    ...            0         0         0         0         0   \n",
      "3       0    ...            0         0         0         0         0   \n",
      "4       0    ...            0         0         0         0         0   \n",
      "\n",
      "   pixel779  pixel780  pixel781  pixel782  pixel783  \n",
      "0         0         0         0         0         0  \n",
      "1         0         0         0         0         0  \n",
      "2         0         0         0         0         0  \n",
      "3         0         0         0         0         0  \n",
      "4         0         0         0         0         0  \n",
      "\n",
      "[5 rows x 785 columns]\n"
     ]
    }
   ],
   "source": [
    "print(data.head())"
   ]
  },
  {
   "cell_type": "code",
   "execution_count": 5,
   "metadata": {
    "collapsed": true
   },
   "outputs": [],
   "source": [
    "images = data.iloc[:,1:].values\n",
    "images = images.astype(np.float)\n",
    "\n",
    "images = np.multiply(images,1.0/255.0)"
   ]
  },
  {
   "cell_type": "code",
   "execution_count": 6,
   "metadata": {},
   "outputs": [
    {
     "data": {
      "text/plain": [
       "(42000, 784)"
      ]
     },
     "execution_count": 6,
     "metadata": {},
     "output_type": "execute_result"
    }
   ],
   "source": [
    "images.shape"
   ]
  },
  {
   "cell_type": "code",
   "execution_count": 7,
   "metadata": {},
   "outputs": [
    {
     "name": "stdout",
     "output_type": "stream",
     "text": [
      "Image size : 784\n",
      "Image height: 28 \n",
      "Image Width: 28\n"
     ]
    }
   ],
   "source": [
    "image_size = images.shape[1]\n",
    "image_height = image_width = np.ceil(np.sqrt(image_size)).astype(np.uint8)\n",
    "print(\"Image size : {0}\".format(image_size))\n",
    "print(\"Image height: {0} \\nImage Width: {1}\".format(image_height,image_width))"
   ]
  },
  {
   "cell_type": "code",
   "execution_count": 8,
   "metadata": {},
   "outputs": [
    {
     "data": {
      "image/png": "[encoded data removed]",
      "text/plain": [
       "<matplotlib.figure.Figure at 0x7f6064635690>"
      ]
     },
     "metadata": {},
     "output_type": "display_data"
    }
   ],
   "source": [
    "def display(img):\n",
    "    one_image = img.reshape(image_width,image_height)\n",
    "    plt.axis('off')\n",
    "    plt.imshow(one_image,cmap=cm.binary)\n",
    "display(images[3])"
   ]
  },
  {
   "cell_type": "code",
   "execution_count": 9,
   "metadata": {},
   "outputs": [
    {
     "name": "stdout",
     "output_type": "stream",
     "text": [
      "labels:42000\n",
      "labels[3]:4\n"
     ]
    }
   ],
   "source": [
    "labels = data['label'].values\n",
    "print('labels:{0}'.format(len(labels)))\n",
    "print('labels[3]:{0}'.format(labels[3]))"
   ]
  },
  {
   "cell_type": "code",
   "execution_count": 11,
   "metadata": {},
   "outputs": [
    {
     "name": "stdout",
     "output_type": "stream",
     "text": [
      "labels_unique:10\n",
      "labels_shape:(42000,)\n"
     ]
    }
   ],
   "source": [
    "labels_unique = np.unique(labels).shape[0]\n",
    "print('labels_unique:{0}'.format(labels_unique))\n",
    "print('labels_shape:{0}'.format(labels.shape))"
   ]
  },
  {
   "cell_type": "markdown",
   "metadata": {},
   "source": [
    "## Converting class labels from scalar to one-hot vectors[understand]"
   ]
  },
  {
   "cell_type": "code",
   "execution_count": 23,
   "metadata": {},
   "outputs": [
    {
     "name": "stdout",
     "output_type": "stream",
     "text": [
      "[     0     10     20 ..., 419970 419980 419990]\n",
      "(42000, 10)\n",
      "labels_new[3]:[ 0.  0.  0.  0.  1.  0.  0.  0.  0.  0.]\n",
      "labels_new_shape:(42000, 10)\n"
     ]
    }
   ],
   "source": [
    "def dense_to_hot(labels,labels_unique):\n",
    "    labels_count = labels.shape[0]\n",
    "    index_offset = np.arange(labels_count)*labels_unique\n",
    "    print(index_offset)\n",
    "    # a new array with 42000 rows and 10 columns with each element being zero\n",
    "    labels_modified = np.zeros((labels_count,labels_unique))\n",
    "    print(labels_modified.shape)\n",
    "    # replacing nth digit with 1 for n label\n",
    "    labels_modified.flat[index_offset+labels.ravel()]=1\n",
    "    return labels_modified\n",
    "\n",
    "labels_new = dense_to_hot(labels,labels_unique) \n",
    "print('labels_new[3]:{0}'.format(labels_new[3]))\n",
    "print('labels_new_shape:{0}'.format(labels_new.shape))"
   ]
  },
  {
   "cell_type": "markdown",
   "metadata": {},
   "source": [
    "### The function dense_to_hot converts the label array to a new modified 2d array with 42000 rows and 10 columns.Every element is initially assigned 0.Each element n is defined by replacing 0 with 1 at the nth place.for instance:\n",
    "### 0={1,0,0,0,0,0,0,0,0,0}\n",
    "### 1={0,1,0,0,0,0,0,0,0,0}\n",
    "### 2={0,0,1,0,0,0,0,0,0,0}\n",
    "### .\n",
    "### .\n",
    "### 9={0,0,0,0,0,0,0,0,0,1}"
   ]
  },
  {
   "cell_type": "markdown",
   "metadata": {},
   "source": [
    "## Splitting data into training and testing data"
   ]
  },
  {
   "cell_type": "code",
   "execution_count": 25,
   "metadata": {
    "collapsed": true
   },
   "outputs": [],
   "source": [
    "test_images = images[:2000]\n",
    "test_labels = labels_new[:2000]"
   ]
  },
  {
   "cell_type": "code",
   "execution_count": 27,
   "metadata": {
    "collapsed": true
   },
   "outputs": [],
   "source": [
    "train_images = images[2000:]\n",
    "train_labels = labels_new[2000:]"
   ]
  },
  {
   "cell_type": "code",
   "execution_count": 29,
   "metadata": {},
   "outputs": [
    {
     "name": "stdout",
     "output_type": "stream",
     "text": [
      "train_images:(40000, 784)\n",
      "train_labels:(40000, 10)\n"
     ]
    }
   ],
   "source": [
    "print('train_images:{0}'.format(train_images.shape))\n",
    "print('train_labels:{0}'.format(train_labels.shape))"
   ]
  },
  {
   "cell_type": "code",
   "execution_count": 31,
   "metadata": {},
   "outputs": [
    {
     "name": "stdout",
     "output_type": "stream",
     "text": [
      "test_images:(2000, 784)\n",
      "test_labels:(2000, 10)\n"
     ]
    }
   ],
   "source": [
    "print('test_images:{0}'.format(test_images.shape))\n",
    "print('test_labels:{0}'.format(test_labels.shape))"
   ]
  },
  {
   "cell_type": "markdown",
   "metadata": {},
   "source": [
    "## Neural network"
   ]
  },
  {
   "cell_type": "code",
   "execution_count": null,
   "metadata": {
    "collapsed": true
   },
   "outputs": [],
   "source": []
  }
 ],
 "metadata": {
  "kernelspec": {
   "display_name": "Python 2",
   "language": "python",
   "name": "python2"
  },
  "language_info": {
   "codemirror_mode": {
    "name": "ipython",
    "version": 2
   },
   "file_extension": ".py",
   "mimetype": "text/x-python",
   "name": "python",
   "nbconvert_exporter": "python",
   "pygments_lexer": "ipython2",
   "version": "2.7.12"
  }
 },
 "nbformat": 4,
 "nbformat_minor": 2
}
